{
 "cells": [
  {
   "cell_type": "code",
   "execution_count": null,
   "metadata": {},
   "outputs": [],
   "source": [
    "import pandas as pd\n",
    "import numpy as np\n",
    "from sklearn.model_selection import train_test_split\n",
    "from sklearn.ensemble import RandomForestRegressor\n",
    "from sklearn.preprocessing import StandardScaler\n",
    "import joblib\n",
    "import logging\n",
    "import time\n",
    "from preprocess import load_data, preprocess_data\n",
    "\n",
    "logging.basicConfig(filename='logs/training.log', level=logging.INFO, \n",
    "                    format='%(asctime)s:%(levelname)s:%(message)s')\n",
    "\n",
    "def main():\n",
    "    train_path = 'data/train.csv'\n",
    "    test_path = 'data/test.csv'\n",
    "    store_path = 'data/store.csv'\n",
    "\n",
    "    train, test, store = load_data(train_path, test_path, store_path)\n",
    "    X_train, y_train, X_test, scaler = preprocess_data(train, test, store)\n",
    "\n",
    "    X_train, X_val, y_train, y_val = train_test_split(X_train, y_train, test_size=0.2, random_state=42)\n",
    "\n",
    "    model = RandomForestRegressor(n_estimators=100, random_state=42)\n",
    "\n",
    "    logging.info('Training RandomForestRegressor model...')\n",
    "    start_time = time.time()\n",
    "    model.fit(X_train, y_train)\n",
    "    training_time = time.time() - start_time\n",
    "    logging.info(f'Training time: {training_time} seconds')\n",
    "\n",
    "    y_pred = model.predict(X_val)\n",
    "    mse = np.mean((y_pred - y_val)**2)\n",
    "    mae = np.mean(abs(y_pred - y_val))\n",
    "    r2 = model.score(X_val, y_val)\n",
    "    logging.info(f'MSE: {mse}, MAE: {mae}, R2: {r2}')\n",
    "\n",
    "    # Save the model and scaler\n",
    "    timestamp = time.strftime(\"%Y-%m-%d-%H-%M-%S\")\n",
    "    joblib.dump((model, scaler), f'app/model_{timestamp}.pkl')\n",
    "    logging.info('Model saved.')\n",
    "\n",
    "    # Optionally save the test set for future predictions\n",
    "    np.save(f'app/X_test_{timestamp}.npy', X_test)\n",
    "    logging.info('Test set saved.')\n",
    "\n",
    "if __name__ == \"__main__\":\n",
    "    main()\n"
   ]
  }
 ],
 "metadata": {
  "language_info": {
   "name": "python"
  }
 },
 "nbformat": 4,
 "nbformat_minor": 2
}
